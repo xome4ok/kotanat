{
 "cells": [
  {
   "cell_type": "code",
   "execution_count": null,
   "metadata": {
    "collapsed": false
   },
   "outputs": [],
   "source": [
    "import vk"
   ]
  },
  {
   "cell_type": "code",
   "execution_count": null,
   "metadata": {
    "collapsed": false
   },
   "outputs": [],
   "source": [
    "app_id = \n",
    "token = "
   ]
  },
  {
   "cell_type": "code",
   "execution_count": null,
   "metadata": {
    "collapsed": false
   },
   "outputs": [],
   "source": [
    "vksession = vk.Session(access_token=token)\n",
    "vkapi = vk.API(vksession)"
   ]
  },
  {
   "cell_type": "markdown",
   "metadata": {},
   "source": [
    "Getting messages:"
   ]
  },
  {
   "cell_type": "code",
   "execution_count": null,
   "metadata": {
    "collapsed": false
   },
   "outputs": [],
   "source": [
    "messages_get_params = {\n",
    "    'out': '0', # 1 — to return outgoing messages , 0 — to return incoming messages (default) \n",
    "    'offset': '0', # Offset needed to return a specific subset of messages. positive number\n",
    "    'count': '200', # Number of messages to return. positive number, default 20, maximum value 200\n",
    "    'filters': '0' # Filter to apply: \n",
    "                  # 1 — unread only \n",
    "                  # 2 — not from the chat \n",
    "                  # 4 — messages from friends \n",
    "                  # If the 4 flag is set, the 1 and 2 flags are not considered. \n",
    "                  # positive number, default 0\n",
    "}"
   ]
  },
  {
   "cell_type": "code",
   "execution_count": null,
   "metadata": {
    "collapsed": false
   },
   "outputs": [],
   "source": [
    "msgs = vkapi.messages.get(**messages_get_params)"
   ]
  },
  {
   "cell_type": "code",
   "execution_count": null,
   "metadata": {
    "collapsed": false
   },
   "outputs": [],
   "source": [
    "msgs"
   ]
  },
  {
   "cell_type": "code",
   "execution_count": null,
   "metadata": {
    "collapsed": false
   },
   "outputs": [],
   "source": [
    "vkapi.messages.getLastActivity(user_id='47244995')"
   ]
  },
  {
   "cell_type": "markdown",
   "metadata": {},
   "source": [
    "Message history with certain user, simple:"
   ]
  },
  {
   "cell_type": "code",
   "execution_count": null,
   "metadata": {
    "collapsed": true
   },
   "outputs": [],
   "source": [
    "messages_gethistory_params = {\n",
    "    'offset': '0',\n",
    "    'count': '200', # positive number, default 20, maximum value 200\n",
    "    'user_id': '12135262',\n",
    "    'rev': '1' # 1 — return messages in chronological order. 0 — return messages in reverse chronological order. \n",
    "}"
   ]
  },
  {
   "cell_type": "code",
   "execution_count": null,
   "metadata": {
    "collapsed": false
   },
   "outputs": [],
   "source": [
    "hist_msgs = vkapi.messages.getHistory(**messages_gethistory_params)"
   ]
  },
  {
   "cell_type": "code",
   "execution_count": null,
   "metadata": {
    "collapsed": false,
    "scrolled": false
   },
   "outputs": [],
   "source": [
    "hist_msgs"
   ]
  },
  {
   "cell_type": "markdown",
   "metadata": {},
   "source": [
    "Message history, optimized query. vk.com rejects to send more than 4000 messages in single execute call."
   ]
  },
  {
   "cell_type": "code",
   "execution_count": null,
   "metadata": {
    "collapsed": false
   },
   "outputs": [],
   "source": [
    "msg_query_part = \"\"\"API.messages.getHistory({\"offset\": %d, \"count\": 200, \"user_id\": %d, \"rev\": %d})+\"\"\"\n",
    "msg_query = \"return \"\n",
    "for i in range(0,4000,200):\n",
    "    msg_query += msg_query_part % (i, \n",
    "                                   int(messages_gethistory_params['user_id']), \n",
    "                                   int(messages_gethistory_params['rev']))\n",
    "msg_query = msg_query.strip(\"+\")\n",
    "msg_query += \";\""
   ]
  },
  {
   "cell_type": "code",
   "execution_count": null,
   "metadata": {
    "collapsed": false
   },
   "outputs": [],
   "source": [
    "query_result = vkapi.execute(code=msg_query)\n",
    "query_result = [x for x in query_result if type(x) is not int] # remove total counts sent with each query"
   ]
  },
  {
   "cell_type": "code",
   "execution_count": null,
   "metadata": {
    "collapsed": false,
    "scrolled": false
   },
   "outputs": [],
   "source": [
    "query_result"
   ]
  },
  {
   "cell_type": "code",
   "execution_count": null,
   "metadata": {
    "collapsed": false
   },
   "outputs": [],
   "source": [
    "print(vkapi.messages.getHistory(user_id=\"12135262\",count=0)[0], # one of the ways of getting total count of messages\n",
    "vkapi.messages.getHistory(chat_id=\"84\",count=0)[0]) # one of the ways of getting total count of messages"
   ]
  },
  {
   "cell_type": "code",
   "execution_count": null,
   "metadata": {
    "collapsed": false
   },
   "outputs": [],
   "source": [
    "def get_all_messages_from(vkapi, user_id, is_chat=True): # if is_chat, user_id is treated as chat_id\n",
    "    import time\n",
    "    \n",
    "    messages_gethistory_params = {\n",
    "        'offset': '0',\n",
    "        'count': '200',\n",
    "        'user_id': str(user_id),\n",
    "        'rev': '1'\n",
    "    }\n",
    "    \n",
    "    all_messages = []\n",
    "    current_bulk = [\"placeholder\"]\n",
    "    n = 0\n",
    "    \n",
    "    total = (vkapi.messages.getHistory(chat_id=messages_gethistory_params[\"user_id\"],count=0) \n",
    "             if is_chat \n",
    "             else vkapi.messages.getHistory(user_id=messages_gethistory_params[\"user_id\"],count=0))[0]\n",
    "    print(\"Going to fetch %d messages\" % total)\n",
    "    \n",
    "    while True:\n",
    "        msg_query_part = \"\"\"API.messages.getHistory({\"offset\": %d, \"count\": 200, \"\"\" + (\"\"\"\"user_id\" \"\"\" if not is_chat else \"\"\"\"chat_id\" \"\"\") + \"\"\": %d, \"rev\": %d})+\"\"\"\n",
    "        msg_query = \"return \"\n",
    "        for i in range(n,n+4000,200):\n",
    "            msg_query += msg_query_part % (i, \n",
    "                                           int(messages_gethistory_params['user_id']), \n",
    "                                           int(messages_gethistory_params['rev']))\n",
    "        msg_query = msg_query.strip(\"+\")\n",
    "        msg_query += \";\"\n",
    "        \n",
    "        current_bulk = vkapi.execute(code=msg_query)\n",
    "        time.sleep(1)\n",
    "        \n",
    "        all_messages.append(current_bulk)\n",
    "        n += len(current_bulk)\n",
    "        if type(current_bulk[-1]) is int:\n",
    "            break\n",
    "        \n",
    "        print(\"Inserted %d elements.\\nlast: %s\" % (n,all_messages[-1][-1]))\n",
    "        \n",
    "    flat = [y for x in all_messages for y in x]\n",
    "    cleaned = [x for x in flat if type(x) is not int]  \n",
    "    return cleaned"
   ]
  },
  {
   "cell_type": "code",
   "execution_count": null,
   "metadata": {
    "collapsed": false,
    "scrolled": true
   },
   "outputs": [],
   "source": [
    "#m = get_all_messages_from(vkapi,47244995)\n",
    "m = get_all_messages_from(vkapi,84)"
   ]
  },
  {
   "cell_type": "markdown",
   "metadata": {},
   "source": [
    "Adding 'user' field with actual usernames and vk page links"
   ]
  },
  {
   "cell_type": "code",
   "execution_count": null,
   "metadata": {
    "collapsed": true
   },
   "outputs": [],
   "source": [
    "from vk_helper import get_user\n",
    "user_set = set(dataitem['uid'] for dataitem in m)\n",
    "user_data = [get_user(vkapi, u)[0] for u in user_set]\n",
    "for d in m:\n",
    "    d['user'] = [u for u in user_data if u['uid'] == d['uid']][0]"
   ]
  },
  {
   "cell_type": "markdown",
   "metadata": {},
   "source": [
    "Save messages' dump to file"
   ]
  },
  {
   "cell_type": "code",
   "execution_count": null,
   "metadata": {
    "collapsed": false
   },
   "outputs": [],
   "source": [
    "import json\n",
    "with open('chat_kotanat.json', 'w') as f:\n",
    "    json.dump(m, f)"
   ]
  },
  {
   "cell_type": "code",
   "execution_count": null,
   "metadata": {
    "collapsed": false,
    "scrolled": false
   },
   "outputs": [],
   "source": [
    "with open('chat_kotanat.json','r') as f:\n",
    "    data = json.load(f)\n",
    "len(data)"
   ]
  },
  {
   "cell_type": "code",
   "execution_count": null,
   "metadata": {
    "collapsed": true
   },
   "outputs": [],
   "source": [
    "users = construct_user_set_from_data(vkapi,data)"
   ]
  },
  {
   "cell_type": "code",
   "execution_count": null,
   "metadata": {
    "collapsed": true
   },
   "outputs": [],
   "source": [
    "for user in users:\n",
    "    if len(user) == 3:\n",
    "        print(user[0],user[1],\"(%s)\" % user[2])\n",
    "    if len(user) == 4:\n",
    "        print(user[0],user[1],\"(%s)\" % user[2],\" - \" + user[3])"
   ]
  }
 ],
 "metadata": {
  "kernelspec": {
   "display_name": "Python 3",
   "language": "python",
   "name": "python3"
  },
  "language_info": {
   "codemirror_mode": {
    "name": "ipython",
    "version": 3
   },
   "file_extension": ".py",
   "mimetype": "text/x-python",
   "name": "python",
   "nbconvert_exporter": "python",
   "pygments_lexer": "ipython3",
   "version": "3.5.1"
  }
 },
 "nbformat": 4,
 "nbformat_minor": 0
}
